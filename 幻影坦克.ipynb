{
 "cells": [
  {
   "cell_type": "code",
   "execution_count": null,
   "id": "37a2ea84-181d-4da9-89f8-db9488f8359b",
   "metadata": {},
   "outputs": [],
   "source": [
    "import ipywidgets as widgets\n",
    "uploaderA = widgets.FileUpload(\n",
    "    description='选择图片A',\n",
    "    accept='image/*',  # Accepted file extension e.g. '.txt', '.pdf', 'image/*', 'image/*,.pdf'\n",
    "    multiple=False  # True to accept multiple files upload else False\n",
    ")\n",
    "uploaderB = widgets.FileUpload(\n",
    "    description='选择图片B',\n",
    "    accept='image/*',  # Accepted file extension e.g. '.txt', '.pdf', 'image/*', 'image/*,.pdf'\n",
    "    multiple=False  # True to accept multiple files upload else False\n",
    ")\n",
    "display(uploaderA,uploaderB)"
   ]
  },
  {
   "cell_type": "code",
   "execution_count": null,
   "id": "8719c29a-44e7-4e53-9a01-6f9d86ebbce7",
   "metadata": {},
   "outputs": [],
   "source": [
    "uploaded_fileA = uploaderA.value[0]\n",
    "uploaded_fileB = uploaderB.value[0]\n",
    "valueA = uploaded_fileA.content\n",
    "valueB = uploaded_fileB.content\n",
    "imageA = widgets.Image(value=valueA.tobytes(), width=300, height=300)\n",
    "imageB = widgets.Image(value=valueB.tobytes(), width=300, height=300)\n",
    "\n",
    "sidebyside = widgets.HBox([imageA, imageB])\n",
    "display(sidebyside)\n"
   ]
  },
  {
   "cell_type": "code",
   "execution_count": null,
   "id": "ab8684c0-2c14-44fa-8f9d-f2c5a224473d",
   "metadata": {},
   "outputs": [],
   "source": [
    "import cv2\n",
    "import matplotlib.pyplot as plt\n",
    "import numpy as np\n",
    "\n",
    "imageA = np.asarray(valueA, dtype=\"uint8\")\n",
    "imageA = cv2.imdecode(imageA, cv2.IMREAD_COLOR)\n",
    "grey_imgA = cv2.cvtColor(imageA, cv2.COLOR_BGR2GRAY)\n",
    "\n",
    "imageB = np.asarray(valueB, dtype=\"uint8\")\n",
    "imageB = cv2.imdecode(imageB, cv2.IMREAD_COLOR)\n",
    "grey_imgB = cv2.cvtColor(imageB, cv2.COLOR_BGR2GRAY)\n",
    "plt.subplot(1, 2, 1)\n",
    "plt.imshow(grey_imgA,cmap=\"gray\")\n",
    "plt.subplot(1, 2, 2)\n",
    "plt.imshow(grey_imgB,cmap=\"gray\")"
   ]
  },
  {
   "cell_type": "code",
   "execution_count": null,
   "id": "57b1d161-2fd8-46ea-85de-eb0d2c48ba02",
   "metadata": {
    "tags": []
   },
   "outputs": [],
   "source": [
    "%matplotlib widget\n",
    "int_range = widgets.IntSlider(\n",
    "    value=128,\n",
    "    min=0,\n",
    "    max=255,\n",
    "    step=1,\n",
    "    description='灰度分界：',\n",
    "    disabled=False,\n",
    "    continuous_update=False,\n",
    "    orientation='horizontal',\n",
    "    readout=True,\n",
    "    readout_format='d'\n",
    ")\n",
    "fig1, ax1 = plt.subplots(1, 2,figsize=(7,2))\n",
    "fig1.canvas.toolbar_visible = False\n",
    "fig1.canvas.header_visible = False\n",
    "fig1.canvas.footer_visible = False\n",
    "fig1.subplots_adjust(top=1,bottom=0,left=0,right=1,hspace=0,wspace=0)\n",
    "ax1[0].axis('off')\n",
    "imgA = ax1[0].imshow(grey_imgA,cmap=\"gray\")\n",
    "ax1[1].axis('off')\n",
    "imgB = ax1[1].imshow(grey_imgB,cmap=\"gray\")\n",
    "\n",
    "def on_value_change(change):\n",
    "    global grey_imgAA,grey_imgBB\n",
    "    a=change['new']\n",
    "    \n",
    "    grey_imgAuint16=grey_imgA.astype('uint16')\n",
    "    grey_imgBuint16=grey_imgB.astype('uint16')\n",
    "    \n",
    "    grey_imgAA=np.round((255-a)*grey_imgAuint16/255+a).astype('uint8')\n",
    "    grey_imgBB=np.round(a*grey_imgBuint16/255).astype('uint8')\n",
    "    \n",
    "    imgA.set_data(grey_imgAA)\n",
    "    imgB.set_data(grey_imgBB)\n",
    "    #fig1.canvas.draw_idle()\n",
    "    #clear_output(wait=True)\n",
    "int_range.observe(on_value_change, names='value')\n",
    "display(int_range)\n",
    "on_value_change({'new':128})"
   ]
  },
  {
   "cell_type": "code",
   "execution_count": null,
   "id": "9519ad90-7c09-4b8d-b057-614433421cf2",
   "metadata": {},
   "outputs": [],
   "source": [
    "# grey_imgAA\n",
    "# grey_imgBB\n",
    "%matplotlib inline\n",
    "alpha=255-grey_imgAA+grey_imgBB\n",
    "pixel_o=np.round(grey_imgBB/alpha*255).astype('uint8')\n",
    "rgba=cv2.merge([pixel_o,pixel_o,pixel_o,alpha])\n",
    "#plt.gca().xaxis.set_major_locator(plt.NullLocator()) \n",
    "#plt.gca().yaxis.set_major_locator(plt.NullLocator()) \n",
    "#plt.subplots_adjust(top=1,bottom=0,left=0,right=1,hspace=0,wspace=0)\n",
    "plt.axis('off')\n",
    "plt.imshow(rgba)\n",
    "\n",
    "plt.savefig('output.png',transparent=True,pad_inches=0.0,bbox_inches='tight')"
   ]
  },
  {
   "cell_type": "code",
   "execution_count": null,
   "id": "61e770fa-9e4b-491c-a1a0-40606441b56c",
   "metadata": {},
   "outputs": [],
   "source": []
  }
 ],
 "metadata": {
  "kernelspec": {
   "display_name": "Python 3 (ipykernel)",
   "language": "python",
   "name": "python3"
  },
  "language_info": {
   "codemirror_mode": {
    "name": "ipython",
    "version": 3
   },
   "file_extension": ".py",
   "mimetype": "text/x-python",
   "name": "python",
   "nbconvert_exporter": "python",
   "pygments_lexer": "ipython3",
   "version": "3.8.15"
  }
 },
 "nbformat": 4,
 "nbformat_minor": 5
}
